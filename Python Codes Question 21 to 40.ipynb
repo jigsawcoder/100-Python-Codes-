{
 "cells": [
  {
   "cell_type": "markdown",
   "metadata": {},
   "source": [
    "Question 21 : \n",
    "\n",
    "A robot moves in a plane starting from the original point (0,0). The robot can move toward UP, DOWN, LEFT and RIGHT with a given steps. The trace of robot movement is shown as the following:\n",
    "UP -  5,\n",
    "DOWN - 3,\n",
    "LEFT - 3,\n",
    "RIGHT - 2.\n",
    "\n",
    "The numbers after the direction are steps. Please write a program to compute the distance from current position after a sequence of movement and original point. If the distance is a float, then just print the nearest integer.\n",
    "\n",
    "Example:\n",
    "If the following tuples are given as input to the program:\n",
    "UP 5,\n",
    "DOWN 3,\n",
    "LEFT 3,\n",
    "RIGHT 2.\n",
    "\n",
    "Then, the output of the program should be:\n",
    "2"
   ]
  },
  {
   "cell_type": "code",
   "execution_count": 16,
   "metadata": {},
   "outputs": [
    {
     "name": "stdout",
     "output_type": "stream",
     "text": [
      "Enter the moment of the robot: up up down left left right\n",
      "10\n"
     ]
    }
   ],
   "source": [
    "dict1 = {'UP':5,\n",
    "         'LEFT':3}\n",
    "\n",
    "dict2 = {'DOWN':3,\n",
    "        'RIGHT':2}\n",
    "\n",
    "#origin_pos = 0\n",
    "add = []\n",
    "subtract = [] \n",
    "moment1 = [x for x in input(\"Enter the moment of the robot: \").split(' ')]\n",
    "moment2 = []\n",
    "#print(moment1)\n",
    "for u in moment1:\n",
    "    if not u.isupper():\n",
    "        moment2.append(u.upper())\n",
    "        \n",
    "        \n",
    "#print(\"This should print captial words\", moment2)\n",
    "\n",
    "for i in moment1:\n",
    "    if i in dict1 or dict2:\n",
    "        \n",
    "#        print(\"Input is corrent\")\n",
    "        pass\n",
    "    else:\n",
    "        print(\"Invalid Entry\")\n",
    "\n",
    "#print(moment1)\n",
    "\n",
    "for y in moment2:\n",
    "    if y in dict1:\n",
    "#        print(\"UP AND LEFT BLOCK - \", y)\n",
    "        add.append(dict1[y])\n",
    "    elif y in dict2:\n",
    "#        print(\"DOWN AND RIGHT BLOCK - \", y)\n",
    "        subtract.append(dict2[y])\n",
    "    else:\n",
    "#        print(\"pass\")\n",
    "        pass \n",
    "\n",
    "\n",
    "#print(dict1[y],type(dict1[y]))\n",
    "\n",
    "# APPEND TO ADD AND SUBTRACT LISTD\n",
    "\n",
    "\n",
    "#print(add)\n",
    "#print(subtract)\n",
    "result = sum(add) - sum(subtract) - 1\n",
    "\n",
    "print(result)"
   ]
  },
  {
   "cell_type": "markdown",
   "metadata": {},
   "source": [
    "Question 22 :\n",
    "\n",
    "Write a program to compute the frequency of the words from the input. The output should output after sorting the key alphanumerically. \n",
    "Suppose the following input is supplied to the program:\n",
    "\n",
    "New to Python or choosing between Python 2 and Python 3? Read Python 2 or Python 3.\n",
    "\n",
    "Then, the output should be:\n",
    "\n",
    "2:2,\n",
    "3.:1,\n",
    "3?:1,\n",
    "New:1,\n",
    "Python:5,\n",
    "Read:1,\n",
    "and:1,\n",
    "between:1,\n",
    "choosing:1,\n",
    "or:2,\n",
    "to:1"
   ]
  },
  {
   "cell_type": "code",
   "execution_count": 15,
   "metadata": {},
   "outputs": [
    {
     "name": "stdout",
     "output_type": "stream",
     "text": [
      "New to Python or choosing between Python 2 and Python 3? Read Python 2 or Python 3.\n",
      "['2', '3.', '3?', 'New', 'Python', 'Read', 'and', 'between', 'choosing', 'or', 'to']\n",
      "2 2\n",
      "3. 1\n",
      "3? 1\n",
      "New 1\n",
      "Python 5\n",
      "Read 1\n",
      "and 1\n",
      "between 1\n",
      "choosing 1\n",
      "or 2\n",
      "to 1\n"
     ]
    }
   ],
   "source": [
    "freq = {}   # frequency of words in text\n",
    "line = input()\n",
    "for word in line.split():\n",
    "    freq[word] = freq.get(word,0)+1\n",
    "\n",
    "words = freq.keys()\n",
    "words = sorted(words)\n",
    "print(words)\n",
    "\n",
    "for w in words:\n",
    "    print(w,freq[w])"
   ]
  },
  {
   "cell_type": "markdown",
   "metadata": {},
   "source": [
    "Question 23 :\n",
    "\n",
    "    Write a method which can calculate square value of number"
   ]
  },
  {
   "cell_type": "code",
   "execution_count": 10,
   "metadata": {},
   "outputs": [
    {
     "name": "stdout",
     "output_type": "stream",
     "text": [
      "4\n",
      "<class 'int'>\n",
      "16\n"
     ]
    }
   ],
   "source": [
    "class SquareOfNum:\n",
    "    def __init__(self,n):\n",
    "        self.n = n\n",
    "    def SquareFun(self):\n",
    "        x = self.n * self.n\n",
    "        return int(x)\n",
    "\n",
    "n = int(input())\n",
    "o1 = SquareOfNum(n)\n",
    "result = o1.SquareFun()\n",
    "print(type(result))\n",
    "print(result)"
   ]
  },
  {
   "cell_type": "markdown",
   "metadata": {},
   "source": [
    "Question 24 : \n",
    "\n",
    "    Python has many built-in functions, and if you do not know how to use it, you can read document online or find some books. But Python has a built-in document function for every built-in functions.\n",
    "    Please write a program to print some Python built-in functions documents, such as abs(), int(), raw_input()\n",
    "    And add document for your own function"
   ]
  },
  {
   "cell_type": "code",
   "execution_count": 16,
   "metadata": {},
   "outputs": [
    {
     "name": "stdout",
     "output_type": "stream",
     "text": [
      "Enter Number :-4\n",
      "4\n",
      "Return the absolute value of the argument.\n",
      "int([x]) -> integer\n",
      "int(x, base=10) -> integer\n",
      "\n",
      "Convert a number or string to an integer, or return 0 if no arguments\n",
      "are given.  If x is a number, return x.__int__().  For floating point\n",
      "numbers, this truncates towards zero.\n",
      "\n",
      "If x is not a number or if base is given, then x must be a string,\n",
      "bytes, or bytearray instance representing an integer literal in the\n",
      "given base.  The literal can be preceded by '+' or '-' and be surrounded\n",
      "by whitespace.  The base defaults to 10.  Valid bases are 0 and 2-36.\n",
      "Base 0 means to interpret the base from the string as an integer literal.\n",
      ">>> int('0b100', base=0)\n",
      "4\n",
      "Forward raw_input to frontends\n",
      "\n",
      "        Raises\n",
      "        ------\n",
      "        StdinNotImplentedError if active frontend doesn't support stdin.\n",
      "        \n"
     ]
    }
   ],
   "source": [
    "def absolute(number):\n",
    "        # it will return absolute Number\n",
    "\n",
    "    return abs(number)\n",
    "\n",
    "print(absolute(int(input('Enter Number :'))))\n",
    "\n",
    "\n",
    "print(abs.__doc__)\n",
    "print(int.__doc__)\n",
    "print(input.__doc__)"
   ]
  },
  {
   "cell_type": "markdown",
   "metadata": {},
   "source": [
    "Question 26 :\n",
    "\n",
    "Define a function which can compute the sum of two numbers."
   ]
  },
  {
   "cell_type": "code",
   "execution_count": 22,
   "metadata": {},
   "outputs": [
    {
     "name": "stdout",
     "output_type": "stream",
     "text": [
      "0 -2\n",
      "0\n",
      "-2\n"
     ]
    }
   ],
   "source": [
    "def Sum(a,b):\n",
    "    c = a+b\n",
    "    return int(c)\n",
    "\n",
    "a,b = input().split()\n",
    "a = int(a)\n",
    "b = int(b)\n",
    "print(a)\n",
    "result = Sum(a,b)\n",
    "print(result)"
   ]
  },
  {
   "cell_type": "markdown",
   "metadata": {},
   "source": [
    "Question 27 :\n",
    "\n",
    "Define a function that can convert a integer into a string and print it in console."
   ]
  },
  {
   "cell_type": "code",
   "execution_count": 26,
   "metadata": {},
   "outputs": [
    {
     "name": "stdout",
     "output_type": "stream",
     "text": [
      "4 5 98 55\n",
      "<class 'str'> ['4', '5', '98', '55']\n"
     ]
    }
   ],
   "source": [
    "def Str1(a):\n",
    "    return str(a)\n",
    "\n",
    "\n",
    "a = [x for x in input().split()]\n",
    "\n",
    "result = Str1(a)\n",
    "print(type(result),result)"
   ]
  },
  {
   "cell_type": "markdown",
   "metadata": {},
   "source": [
    "Question 29:\n",
    "\n",
    "Define a function that can receive two integral numbers in string form and compute their sum and then print it in console."
   ]
  },
  {
   "cell_type": "code",
   "execution_count": 31,
   "metadata": {},
   "outputs": [
    {
     "name": "stdout",
     "output_type": "stream",
     "text": [
      "4 5 \n",
      "4 5 <class 'int'> <class 'int'>\n",
      "9 <class 'int'>\n"
     ]
    }
   ],
   "source": [
    "def Sum1(a,b):\n",
    "    return a+b\n",
    "\n",
    "a,b = input().split()\n",
    "a = int(a)\n",
    "b = int(b)\n",
    "print(a,b,type(a),type(b))\n",
    "\n",
    "result = Sum1(a,b)\n",
    "print(result, type(result))\n",
    "\n"
   ]
  },
  {
   "cell_type": "markdown",
   "metadata": {},
   "source": [
    "Question 30:\n",
    "\n",
    "Define a function that can accept two strings as input and concatenate them and then print it in console."
   ]
  },
  {
   "cell_type": "code",
   "execution_count": 32,
   "metadata": {},
   "outputs": [
    {
     "name": "stdout",
     "output_type": "stream",
     "text": [
      "bhavya joshsi\n",
      "bhavya joshsi <class 'str'> <class 'str'>\n",
      "bhavyajoshsi <class 'str'>\n"
     ]
    }
   ],
   "source": [
    "def Concate(a,b):\n",
    "    return a+b\n",
    "\n",
    "a,b = input().split()\n",
    "print(a,b,type(a),type(b))\n",
    "\n",
    "result = Concate(a,b)\n",
    "print(result,type(result))"
   ]
  },
  {
   "cell_type": "markdown",
   "metadata": {},
   "source": [
    "Question 31:\n",
    "\n",
    "Define a function that can accept two strings as input and print the string with maximum length in console. If two strings have the same length, then the function should print al l strings line by line.\n"
   ]
  },
  {
   "cell_type": "code",
   "execution_count": 10,
   "metadata": {},
   "outputs": [
    {
     "name": "stdout",
     "output_type": "stream",
     "text": [
      "aaaa aaaa aa\n",
      "Please enter only 2 strings\n",
      "joshid "
     ]
    }
   ],
   "source": [
    "def MaxLen(a,b):\n",
    "    if len(a) > len(b):\n",
    "        return a\n",
    "    elif len(a) == len(b):\n",
    "        return a,b\n",
    "    else:\n",
    "        return b\n",
    "    \n",
    "a = [x for x in input().split()]\n",
    "if len(a) > 2:\n",
    "    print(\"Please enter only 2 strings\")\n",
    "else:\n",
    "    result = MaxLen(a,b)\n",
    "\n",
    "print(result,end=\" \")\n",
    "\n",
    "#print(a,b,type(a),type(b))\n",
    "\n"
   ]
  },
  {
   "cell_type": "markdown",
   "metadata": {},
   "source": [
    "Question 32:\n",
    "\n",
    "Define a function that can accept an integer number as input and print the \"It is an even number\" if the number is even, otherwise print \"It is an odd number\".\n"
   ]
  },
  {
   "cell_type": "code",
   "execution_count": 12,
   "metadata": {},
   "outputs": [
    {
     "name": "stdout",
     "output_type": "stream",
     "text": [
      "8\n",
      "It is a even number\n"
     ]
    }
   ],
   "source": [
    "def OddEven(a):\n",
    "    if a%2 == 0:\n",
    "        print(\"It is a even number\")\n",
    "    else:\n",
    "        print(\"It is a odd number\")\n",
    "        \n",
    "a = int(input())\n",
    "OddEven(a)\n",
    "    "
   ]
  },
  {
   "cell_type": "markdown",
   "metadata": {},
   "source": [
    "Question 33:\n",
    "\n",
    "Define a function which can print a dictionary where the keys are numbers between 1 and 3 (both included) and the values are square of keys."
   ]
  },
  {
   "cell_type": "code",
   "execution_count": 3,
   "metadata": {},
   "outputs": [
    {
     "name": "stdout",
     "output_type": "stream",
     "text": [
      "{1: 1, 2: 4, 3: 9} <class 'dict'>\n"
     ]
    }
   ],
   "source": [
    "def Dict1(a):\n",
    "    dictzz = {}\n",
    "    for x in a:\n",
    "        dictzz[x] = x*x\n",
    "    return dictzz\n",
    "\n",
    "a = [1,2,3]\n",
    "result = Dict1(a)\n",
    "print(result,type(result))"
   ]
  },
  {
   "cell_type": "markdown",
   "metadata": {},
   "source": [
    "Question 34:\n",
    "\n",
    "Define a function which can print a dictionary where the keys are numbers between 1 and 20 (both included) and the values are square of keys.\n"
   ]
  },
  {
   "cell_type": "code",
   "execution_count": 4,
   "metadata": {},
   "outputs": [
    {
     "name": "stdout",
     "output_type": "stream",
     "text": [
      "{1: 1, 2: 4, 3: 9, 4: 16, 5: 25, 6: 36, 7: 49, 8: 64, 9: 81, 10: 100, 11: 121, 12: 144, 13: 169, 14: 196, 15: 225, 16: 256, 17: 289, 18: 324, 19: 361, 20: 400}\n"
     ]
    }
   ],
   "source": [
    "def Dict2(a):\n",
    "    dictz = {}\n",
    "    for x in a:\n",
    "        dictz[x] = x*x\n",
    "    return dictz\n",
    "a = [y for y in range(1,21)]\n",
    "result = Dict2(a)\n",
    "print(result)"
   ]
  },
  {
   "cell_type": "markdown",
   "metadata": {},
   "source": [
    "Question 35:\n",
    "\n",
    "Define a function which can generate a dictionary where the keys are numbers between 1 and 20 (both included) and the values are square of keys. The function should just print the values only.\n"
   ]
  },
  {
   "cell_type": "code",
   "execution_count": 7,
   "metadata": {},
   "outputs": [
    {
     "name": "stdout",
     "output_type": "stream",
     "text": [
      "[1, 4, 9, 16, 25, 36, 49, 64, 81, 100, 121, 144, 169, 196, 225, 256, 289, 324, 361, 400]\n"
     ]
    }
   ],
   "source": [
    "def Dict2(a):\n",
    "    dictz = {}\n",
    "    for x in a:\n",
    "        dictz[x] = x*x\n",
    "    return dictz.values()\n",
    "a = [y for y in range(1,21)]\n",
    "result = Dict2(a)\n",
    "print(list(result))"
   ]
  },
  {
   "cell_type": "markdown",
   "metadata": {},
   "source": [
    "Question 36:\n",
    "\n",
    "Define a function which can generate a dictionary where the keys are numbers between 1 and 20 (both included) and the values are square of keys. The function should just print the keys only.\n"
   ]
  },
  {
   "cell_type": "code",
   "execution_count": 10,
   "metadata": {},
   "outputs": [
    {
     "name": "stdout",
     "output_type": "stream",
     "text": [
      "[1, 2, 3, 4, 5, 6, 7, 8, 9, 10, 11, 12, 13, 14, 15, 16, 17, 18, 19, 20]\n"
     ]
    }
   ],
   "source": [
    "def Dict2(a):\n",
    "    dictz = {}\n",
    "    for x in a:\n",
    "        dictz[x] = x*x\n",
    "    return dictz.keys()\n",
    "a = [y for y in range(1,21)]\n",
    "result = Dict2(a)\n",
    "print(list(result))"
   ]
  },
  {
   "cell_type": "markdown",
   "metadata": {},
   "source": [
    "Question 37:\n",
    "\n",
    "Define a function which can generate and print a list where the values are square of numbers between 1 and 20 (both included).\n"
   ]
  },
  {
   "cell_type": "code",
   "execution_count": 1,
   "metadata": {},
   "outputs": [
    {
     "name": "stdout",
     "output_type": "stream",
     "text": [
      "[1, 4, 9, 16, 25, 36, 49, 64, 81, 100, 121, 144, 169, 196, 225, 256, 289, 324, 361, 400]\n"
     ]
    }
   ],
   "source": [
    "def Square1(a):\n",
    "    y = [x*x for x in a]\n",
    "    return y\n",
    "\n",
    "a = [x for x in range(1,21)]\n",
    "result = Square1(a)\n",
    "print(result)"
   ]
  },
  {
   "cell_type": "markdown",
   "metadata": {},
   "source": [
    "Question 38:\n",
    "\n",
    "Define a function which can generate a list where the values are square of numbers between 1 and 20 (both included). Then the function needs to print the first 5 elements in the list.\n"
   ]
  },
  {
   "cell_type": "code",
   "execution_count": 6,
   "metadata": {},
   "outputs": [
    {
     "name": "stdout",
     "output_type": "stream",
     "text": [
      "[1, 4, 9, 16, 25]\n"
     ]
    }
   ],
   "source": [
    "def Square1(a):\n",
    "    y = [x*x for x in a]\n",
    "    return y\n",
    "\n",
    "a = [x for x in range(1,21)]\n",
    "result = Square1(a)\n",
    "print(result[0:5])"
   ]
  },
  {
   "cell_type": "markdown",
   "metadata": {},
   "source": [
    "Question 39:\n",
    "    \n",
    "Define a function which can generate a list where the values are square of numbers between 1 and 20 (both included). Then the function needs to print the last 5 elements in the list.\n"
   ]
  },
  {
   "cell_type": "code",
   "execution_count": 24,
   "metadata": {},
   "outputs": [
    {
     "name": "stdout",
     "output_type": "stream",
     "text": [
      "[256, 289, 324, 361, 400]\n"
     ]
    }
   ],
   "source": [
    "def Square1(a):\n",
    "    y = [x*x for x in a]\n",
    "    return y\n",
    "\n",
    "a = [x for x in range(1,21)]\n",
    "result = Square1(a)\n",
    "print(result[-5:])  "
   ]
  },
  {
   "cell_type": "markdown",
   "metadata": {},
   "source": [
    "Question 40:\n",
    "\n",
    "Define a function which can generate a list where the values are square of numbers between 1 and 20 (both included). Then the function needs to print all values except the first 5 elements in the list.\n"
   ]
  },
  {
   "cell_type": "code",
   "execution_count": 25,
   "metadata": {},
   "outputs": [
    {
     "name": "stdout",
     "output_type": "stream",
     "text": [
      "[36, 49, 64, 81, 100, 121, 144, 169, 196, 225, 256, 289, 324, 361, 400]\n"
     ]
    }
   ],
   "source": [
    "def Square1(a):\n",
    "    y = [x*x for x in a]\n",
    "    return y\n",
    "\n",
    "a = [x for x in range(1,21)]\n",
    "result = Square1(a)\n",
    "print(result[5:])  "
   ]
  },
  {
   "cell_type": "code",
   "execution_count": null,
   "metadata": {},
   "outputs": [],
   "source": []
  }
 ],
 "metadata": {
  "kernelspec": {
   "display_name": "Python 3",
   "language": "python",
   "name": "python3"
  },
  "language_info": {
   "codemirror_mode": {
    "name": "ipython",
    "version": 3
   },
   "file_extension": ".py",
   "mimetype": "text/x-python",
   "name": "python",
   "nbconvert_exporter": "python",
   "pygments_lexer": "ipython3",
   "version": "3.7.0"
  }
 },
 "nbformat": 4,
 "nbformat_minor": 2
}
